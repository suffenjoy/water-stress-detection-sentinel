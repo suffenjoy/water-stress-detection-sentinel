{
 "cells": [
  {
   "cell_type": "code",
   "execution_count": 11,
   "metadata": {},
   "outputs": [],
   "source": [
    "#import necessary packages\n",
    "import numpy as np\n",
    "import pandas as pd\n",
    "import matplotlib\n",
    "import matplotlib.pyplot as plt\n",
    "matplotlib.use\n",
    "plt.style.use('ggplot')\n",
    "%matplotlib inline"
   ]
  },
  {
   "cell_type": "code",
   "execution_count": null,
   "metadata": {
    "collapsed": true
   },
   "outputs": [],
   "source": [
    "#sklearn package\n",
    "from sklearn.preprocessing import scale\n",
    "from sklearn import svm\n",
    "from sklearn.model_selection import cross_val_score, KFold, train_test_split\n"
   ]
  },
  {
   "cell_type": "markdown",
   "metadata": {},
   "source": [
    "##Load data sets"
   ]
  },
  {
   "cell_type": "code",
   "execution_count": null,
   "metadata": {
    "collapsed": true
   },
   "outputs": [],
   "source": [
    "#load data set that I created \n",
    "#the path of directory that stores all the csv produced from r\n",
    "csv_path = \"\"\n",
    "\n",
    "\n",
    "\n",
    "#reflectance of the centers of two trees in each block\n",
    "total_centers_simple = pd.read_csv(csv_path + \".csv\", )\n",
    "total_centers_bilinear = pd.read_csv()\n",
    "##total_centers_simple_10buffer = pd.read_csv()\n",
    "##total_centers_bilinear_10buffer = pd.read_csv()\n",
    "\n",
    "#reflectance of each tree\n",
    "df_points_simple = pd.read_csv()\n",
    "df_points_bilinear = pd.read_csv()\n",
    "##df_points_simple_10buffer = pd.read_csv()\n",
    "##df_points_bilinear_10buffer = pd.read_csv()\n",
    "\n",
    "#reflectance of blocks\n",
    "df_blocks_mean = pd.read_csv()\n",
    "df_blocks_median = pd.read_csv()"
   ]
  },
  {
   "cell_type": "code",
   "execution_count": null,
   "metadata": {
    "collapsed": true
   },
   "outputs": [],
   "source": [
    "X_centers_simple = np.array(df_centers_simple[])\n",
    "y_centers_simple = np.array(df_centers_simple[])"
   ]
  }
 ],
 "metadata": {
  "kernelspec": {
   "display_name": "Python 2",
   "language": "python",
   "name": "python2"
  },
  "language_info": {
   "codemirror_mode": {
    "name": "ipython",
    "version": 2
   },
   "file_extension": ".py",
   "mimetype": "text/x-python",
   "name": "python",
   "nbconvert_exporter": "python",
   "pygments_lexer": "ipython2",
   "version": "2.7.13"
  }
 },
 "nbformat": 4,
 "nbformat_minor": 2
}
